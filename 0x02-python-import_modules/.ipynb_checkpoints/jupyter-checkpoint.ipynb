{
 "cells": [
  {
   "cell_type": "code",
   "execution_count": 9,
   "id": "6862e596",
   "metadata": {},
   "outputs": [
    {
     "ename": "SyntaxError",
     "evalue": "invalid syntax (68726910.py, line 22)",
     "output_type": "error",
     "traceback": [
      "\u001b[1;36m  Cell \u001b[1;32mIn[9], line 22\u001b[1;36m\u001b[0m\n\u001b[1;33m    if operator == '-':\u001b[0m\n\u001b[1;37m                      ^\u001b[0m\n\u001b[1;31mSyntaxError\u001b[0m\u001b[1;31m:\u001b[0m invalid syntax\n"
     ]
    }
   ],
   "source": [
    "#!/usr/bin/python3\n",
    "\n",
    "if __name__ == \"__main__\":\n",
    "    import sys\n",
    "    from calculator_1 import add, div, mul, sub\n",
    "    \n",
    "    count_args = len(sys.argv)\n",
    "    if count_args > 3:\n",
    "        print('Usage: ./100-my_calculator.py <a> <operator> <b>')\n",
    "        sys.exit(1)\n",
    "        \n",
    "    operator = sys.argv[2]\n",
    "    if operator != operators:\n",
    "        print('Unknown operator. Available operators: +, -, * and /')\n",
    "        print(1)\n",
    "        \n",
    "    a = sys.argv[1]\n",
    "    b = sys.argv[3]\n",
    "    \n",
    "    if operator == '+':\n",
    "        print('{} + {} = {}'.format(a, b, add(a, b))\n",
    "    elif operator == '-':\n",
    "        print('{} - {} = {}'.format(a, b, sub(a, b))\n",
    "    elif operator == '*':\n",
    "        print('{} * {} = {}'.format(a, b, mul(a, b))\n",
    "    else:\n",
    "        print('{} / {} = {}'.format(a, b, div(a, b))"
   ]
  },
  {
   "cell_type": "code",
   "execution_count": null,
   "id": "b8f71bdb",
   "metadata": {},
   "outputs": [],
   "source": []
  },
  {
   "cell_type": "code",
   "execution_count": null,
   "id": "68e7ebeb",
   "metadata": {},
   "outputs": [],
   "source": []
  },
  {
   "cell_type": "code",
   "execution_count": null,
   "id": "67c3c025",
   "metadata": {},
   "outputs": [],
   "source": []
  },
  {
   "cell_type": "code",
   "execution_count": 5,
   "id": "a177ec05",
   "metadata": {},
   "outputs": [],
   "source": []
  }
 ],
 "metadata": {
  "kernelspec": {
   "display_name": "Python 3 (ipykernel)",
   "language": "python",
   "name": "python3"
  },
  "language_info": {
   "codemirror_mode": {
    "name": "ipython",
    "version": 3
   },
   "file_extension": ".py",
   "mimetype": "text/x-python",
   "name": "python",
   "nbconvert_exporter": "python",
   "pygments_lexer": "ipython3",
   "version": "3.11.4"
  }
 },
 "nbformat": 4,
 "nbformat_minor": 5
}
