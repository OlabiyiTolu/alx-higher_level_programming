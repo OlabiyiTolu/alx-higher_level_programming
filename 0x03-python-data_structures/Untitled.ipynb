{
 "cells": [
  {
   "cell_type": "code",
   "execution_count": 2,
   "id": "88be4e7c",
   "metadata": {},
   "outputs": [
    {
     "ename": "NameError",
     "evalue": "name 'array' is not defined",
     "output_type": "error",
     "traceback": [
      "\u001b[1;31m---------------------------------------------------------------------------\u001b[0m",
      "\u001b[1;31mNameError\u001b[0m                                 Traceback (most recent call last)",
      "Cell \u001b[1;32mIn[2], line 1\u001b[0m\n\u001b[1;32m----> 1\u001b[0m array(\u001b[38;5;28mrange\u001b[39m(\u001b[38;5;241m10\u001b[39m,\u001b[38;5;241m0\u001b[39m,\u001b[38;5;241m-\u001b[39m\u001b[38;5;241m2\u001b[39m))\n",
      "\u001b[1;31mNameError\u001b[0m: name 'array' is not defined"
     ]
    }
   ],
   "source": [
    "array(range(10,0,-2))"
   ]
  },
  {
   "cell_type": "code",
   "execution_count": 3,
   "id": "903463f6",
   "metadata": {},
   "outputs": [
    {
     "ename": "AttributeError",
     "evalue": "module '0-print_list_integer' has no attribute 'print_list_integer'",
     "output_type": "error",
     "traceback": [
      "\u001b[1;31m---------------------------------------------------------------------------\u001b[0m",
      "\u001b[1;31mAttributeError\u001b[0m                            Traceback (most recent call last)",
      "Cell \u001b[1;32mIn[3], line 1\u001b[0m\n\u001b[1;32m----> 1\u001b[0m print_list_integer \u001b[38;5;241m=\u001b[39m \u001b[38;5;28m__import__\u001b[39m(\u001b[38;5;124m'\u001b[39m\u001b[38;5;124m0-print_list_integer\u001b[39m\u001b[38;5;124m'\u001b[39m)\u001b[38;5;241m.\u001b[39mprint_list_integer\n\u001b[0;32m      3\u001b[0m my_list \u001b[38;5;241m=\u001b[39m [\u001b[38;5;241m1\u001b[39m, \u001b[38;5;241m2\u001b[39m, \u001b[38;5;241m3\u001b[39m, \u001b[38;5;241m4\u001b[39m, \u001b[38;5;241m5\u001b[39m]\n\u001b[0;32m      4\u001b[0m print_list_integer(my_list)\n",
      "\u001b[1;31mAttributeError\u001b[0m: module '0-print_list_integer' has no attribute 'print_list_integer'"
     ]
    }
   ],
   "source": [
    "print_list_integer = __import__('0-print_list_integer').print_list_integer\n",
    "\n",
    "my_list = [1, 2, 3, 4, 5]\n",
    "print_list_integer(my_list)"
   ]
  },
  {
   "cell_type": "code",
   "execution_count": 4,
   "id": "1083ebcb",
   "metadata": {},
   "outputs": [
    {
     "ename": "TypeError",
     "evalue": "object of type 'int' has no len()",
     "output_type": "error",
     "traceback": [
      "\u001b[1;31m---------------------------------------------------------------------------\u001b[0m",
      "\u001b[1;31mTypeError\u001b[0m                                 Traceback (most recent call last)",
      "Cell \u001b[1;32mIn[4], line 2\u001b[0m\n\u001b[0;32m      1\u001b[0m idx \u001b[38;5;241m=\u001b[39m \u001b[38;5;241m123\u001b[39m\n\u001b[1;32m----> 2\u001b[0m \u001b[38;5;28mlen\u001b[39m(idx)\n",
      "\u001b[1;31mTypeError\u001b[0m: object of type 'int' has no len()"
     ]
    }
   ],
   "source": [
    "idx = 123\n",
    "len(idx)"
   ]
  },
  {
   "cell_type": "code",
   "execution_count": 25,
   "id": "f210f4fe",
   "metadata": {},
   "outputs": [],
   "source": [
    "def element_at(my_list, idx):\n",
    "    if idx < 0:\n",
    "        print('None')\n",
    "    list_c = len(my_list)\n",
    "    if idx > list_c:\n",
    "        print(None)  "
   ]
  },
  {
   "cell_type": "code",
   "execution_count": 26,
   "id": "ab42fa28",
   "metadata": {},
   "outputs": [
    {
     "name": "stdout",
     "output_type": "stream",
     "text": [
      "Element at index 3 is None\n"
     ]
    }
   ],
   "source": [
    "my_list = [1, 2, 3, 4, 5]\n",
    "idx = 3\n",
    "print(\"Element at index {:d} is {}\".format(idx, element_at(my_list, idx)))"
   ]
  },
  {
   "cell_type": "code",
   "execution_count": 24,
   "id": "6b39d3fd",
   "metadata": {},
   "outputs": [],
   "source": [
    "element_at(1, -1)"
   ]
  },
  {
   "cell_type": "code",
   "execution_count": 56,
   "id": "36d6a14d",
   "metadata": {},
   "outputs": [],
   "source": [
    "def print_reversed_list_integer(my_list=[]):\n",
    "    if my_list:\n",
    "        my_list.reverse()\n",
    "        for i in range(len(my_list)):\n",
    "            print(\"{}\".format(my_list[i]))"
   ]
  },
  {
   "cell_type": "code",
   "execution_count": 57,
   "id": "019b3e29",
   "metadata": {},
   "outputs": [
    {
     "name": "stdout",
     "output_type": "stream",
     "text": [
      "5\n",
      "4\n",
      "3\n",
      "2\n"
     ]
    }
   ],
   "source": [
    "print_reversed_list_integer(my_list=[2,3,4,5])"
   ]
  },
  {
   "cell_type": "code",
   "execution_count": 67,
   "id": "1b62027e",
   "metadata": {},
   "outputs": [
    {
     "data": {
      "text/plain": [
       "range(0, 4)"
      ]
     },
     "execution_count": 67,
     "metadata": {},
     "output_type": "execute_result"
    }
   ],
   "source": [
    "c = \"book\"\n",
    "range(len(c))"
   ]
  },
  {
   "cell_type": "code",
   "execution_count": 79,
   "id": "052ff572",
   "metadata": {},
   "outputs": [
    {
     "name": "stdout",
     "output_type": "stream",
     "text": [
      "bk\n"
     ]
    }
   ],
   "source": [
    "c = \"book\"\n",
    "new_string = \"\"\n",
    "for i in range(len(c)):\n",
    "    if c[i] != 'o' and c[i] != 'C':\n",
    "        new_string += c[i]\n",
    "print(new_string)"
   ]
  },
  {
   "cell_type": "code",
   "execution_count": 80,
   "id": "cb2dfdfc",
   "metadata": {},
   "outputs": [],
   "source": [
    "matrix = [\n",
    "    [1, 2, 3],\n",
    "    [4, 5, 6],\n",
    "    [7, 8, 9]\n",
    "]"
   ]
  },
  {
   "cell_type": "code",
   "execution_count": 88,
   "id": "4aecb533",
   "metadata": {},
   "outputs": [
    {
     "ename": "TypeError",
     "evalue": "unsupported operand type(s) for +=: 'int' and 'list'",
     "output_type": "error",
     "traceback": [
      "\u001b[1;31m---------------------------------------------------------------------------\u001b[0m",
      "\u001b[1;31mTypeError\u001b[0m                                 Traceback (most recent call last)",
      "Cell \u001b[1;32mIn[88], line 3\u001b[0m\n\u001b[0;32m      1\u001b[0m mat \u001b[38;5;241m=\u001b[39m \u001b[38;5;241m0\u001b[39m\n\u001b[0;32m      2\u001b[0m \u001b[38;5;28;01mfor\u001b[39;00m i \u001b[38;5;129;01min\u001b[39;00m \u001b[38;5;28mrange\u001b[39m(\u001b[38;5;28mlen\u001b[39m(matrix)):\n\u001b[1;32m----> 3\u001b[0m     mat \u001b[38;5;241m+\u001b[39m\u001b[38;5;241m=\u001b[39m matrix[i]\n\u001b[0;32m      4\u001b[0m     \u001b[38;5;28mprint\u001b[39m(mat)\n",
      "\u001b[1;31mTypeError\u001b[0m: unsupported operand type(s) for +=: 'int' and 'list'"
     ]
    }
   ],
   "source": [
    "mat = 0\n",
    "for i in range(len(matrix)):\n",
    "    mat = matrix[i]\n",
    "    print(mat)"
   ]
  },
  {
   "cell_type": "code",
   "execution_count": null,
   "id": "20cbcba4",
   "metadata": {},
   "outputs": [],
   "source": []
  },
  {
   "cell_type": "code",
   "execution_count": null,
   "id": "cd6b1344",
   "metadata": {},
   "outputs": [],
   "source": []
  },
  {
   "cell_type": "code",
   "execution_count": 1,
   "id": "df7d8bf4",
   "metadata": {},
   "outputs": [],
   "source": [
    "matrix = [\n",
    "    [1, 2, 3],\n",
    "    [4, 5, 6],\n",
    "    [7, 8, 9]\n",
    "]"
   ]
  },
  {
   "cell_type": "code",
   "execution_count": 2,
   "id": "8739cf5d",
   "metadata": {},
   "outputs": [
    {
     "data": {
      "text/plain": [
       "[[1, 2, 3], [4, 5, 6], [7, 8, 9]]"
      ]
     },
     "execution_count": 2,
     "metadata": {},
     "output_type": "execute_result"
    }
   ],
   "source": [
    "matrix"
   ]
  },
  {
   "cell_type": "code",
   "execution_count": 3,
   "id": "9786e0b7",
   "metadata": {},
   "outputs": [
    {
     "data": {
      "text/plain": [
       "3"
      ]
     },
     "execution_count": 3,
     "metadata": {},
     "output_type": "execute_result"
    }
   ],
   "source": [
    "len(matrix)"
   ]
  },
  {
   "cell_type": "code",
   "execution_count": 11,
   "id": "8dc49ea0",
   "metadata": {},
   "outputs": [
    {
     "name": "stdout",
     "output_type": "stream",
     "text": [
      "1 2 3\n",
      "4 5 6\n",
      "7 8 9\n"
     ]
    }
   ],
   "source": [
    "for i in range(len(matrix)):\n",
    "    for j in range(len(matrix[i])):\n",
    "        if j != 0:\n",
    "            print(\" \", end='')\n",
    "        print(\"{:d}\".format(matrix[i][j]), end='')\n",
    "    print()"
   ]
  },
  {
   "cell_type": "code",
   "execution_count": null,
   "id": "6b7b459b",
   "metadata": {},
   "outputs": [],
   "source": [
    "#!/usr/bin/python3\n",
    "# print matrix values\n",
    "def print_matrix_integer(matrix=[[]]):\n",
    "    \"\"\"Function that prints a matrix of integers\"\"\"\n",
    "    for i in range(len(matrix)):\n",
    "        for j in range(len(matrix[i])):\n",
    "            if j != 0:\n",
    "                print(\" \", end='')\n",
    "            print(\"{:d}\".format(matrix[i][j]), end='')\n",
    "        print()\n"
   ]
  },
  {
   "cell_type": "code",
   "execution_count": 13,
   "id": "f1485195",
   "metadata": {},
   "outputs": [],
   "source": [
    "new_tuple = ()"
   ]
  },
  {
   "cell_type": "code",
   "execution_count": 14,
   "id": "252b18ca",
   "metadata": {},
   "outputs": [],
   "source": [
    "tuple_a = (1,2,3)\n",
    "tuple_b = (1,2,3)"
   ]
  },
  {
   "cell_type": "code",
   "execution_count": 15,
   "id": "909f7100",
   "metadata": {},
   "outputs": [],
   "source": [
    "tuple_1 = tuple_a + (0, 0)\n",
    "tuple_2 = tuple_b + (0, 0)"
   ]
  },
  {
   "cell_type": "code",
   "execution_count": 17,
   "id": "157f9407",
   "metadata": {},
   "outputs": [
    {
     "data": {
      "text/plain": [
       "(1, 2, 3, 0, 0)"
      ]
     },
     "execution_count": 17,
     "metadata": {},
     "output_type": "execute_result"
    }
   ],
   "source": [
    "tuple_2"
   ]
  },
  {
   "cell_type": "code",
   "execution_count": 18,
   "id": "486467f9",
   "metadata": {},
   "outputs": [],
   "source": [
    "new_tuple = tuple_1[0] + tuple_2[0], tuple_1[1] + tuple_2[1]"
   ]
  },
  {
   "cell_type": "code",
   "execution_count": 19,
   "id": "06084fe4",
   "metadata": {},
   "outputs": [
    {
     "data": {
      "text/plain": [
       "(2, 4)"
      ]
     },
     "execution_count": 19,
     "metadata": {},
     "output_type": "execute_result"
    }
   ],
   "source": [
    "new_tuple"
   ]
  },
  {
   "cell_type": "code",
   "execution_count": null,
   "id": "a722625e",
   "metadata": {},
   "outputs": [],
   "source": []
  },
  {
   "cell_type": "code",
   "execution_count": null,
   "id": "0dd5b594",
   "metadata": {},
   "outputs": [],
   "source": []
  },
  {
   "cell_type": "code",
   "execution_count": null,
   "id": "1f117897",
   "metadata": {},
   "outputs": [],
   "source": []
  },
  {
   "cell_type": "code",
   "execution_count": null,
   "id": "aa07bf69",
   "metadata": {},
   "outputs": [],
   "source": []
  },
  {
   "cell_type": "code",
   "execution_count": null,
   "id": "625fc3ea",
   "metadata": {},
   "outputs": [],
   "source": []
  },
  {
   "cell_type": "code",
   "execution_count": null,
   "id": "e682552e",
   "metadata": {},
   "outputs": [],
   "source": []
  },
  {
   "cell_type": "code",
   "execution_count": null,
   "id": "5ee37e75",
   "metadata": {},
   "outputs": [],
   "source": []
  },
  {
   "cell_type": "code",
   "execution_count": null,
   "id": "5c3b24ed",
   "metadata": {},
   "outputs": [],
   "source": []
  },
  {
   "cell_type": "code",
   "execution_count": null,
   "id": "f3f136fd",
   "metadata": {},
   "outputs": [],
   "source": []
  }
 ],
 "metadata": {
  "kernelspec": {
   "display_name": "Python 3 (ipykernel)",
   "language": "python",
   "name": "python3"
  },
  "language_info": {
   "codemirror_mode": {
    "name": "ipython",
    "version": 3
   },
   "file_extension": ".py",
   "mimetype": "text/x-python",
   "name": "python",
   "nbconvert_exporter": "python",
   "pygments_lexer": "ipython3",
   "version": "3.11.4"
  }
 },
 "nbformat": 4,
 "nbformat_minor": 5
}
