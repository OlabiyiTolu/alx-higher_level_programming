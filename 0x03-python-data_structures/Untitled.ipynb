{
 "cells": [
  {
   "cell_type": "code",
   "execution_count": 3,
   "id": "bc433806",
   "metadata": {},
   "outputs": [
    {
     "ename": "AttributeError",
     "evalue": "module '0-print_list_integer' has no attribute 'print_list_integer'",
     "output_type": "error",
     "traceback": [
      "\u001b[1;31m---------------------------------------------------------------------------\u001b[0m",
      "\u001b[1;31mAttributeError\u001b[0m                            Traceback (most recent call last)",
      "Cell \u001b[1;32mIn[3], line 1\u001b[0m\n\u001b[1;32m----> 1\u001b[0m print_list_integer \u001b[38;5;241m=\u001b[39m \u001b[38;5;28m__import__\u001b[39m(\u001b[38;5;124m'\u001b[39m\u001b[38;5;124m0-print_list_integer\u001b[39m\u001b[38;5;124m'\u001b[39m)\u001b[38;5;241m.\u001b[39mprint_list_integer\n\u001b[0;32m      3\u001b[0m my_list \u001b[38;5;241m=\u001b[39m [\u001b[38;5;241m1\u001b[39m, \u001b[38;5;241m2\u001b[39m, \u001b[38;5;241m3\u001b[39m, \u001b[38;5;241m4\u001b[39m, \u001b[38;5;241m5\u001b[39m]\n\u001b[0;32m      4\u001b[0m print_list_integer(my_list)\n",
      "\u001b[1;31mAttributeError\u001b[0m: module '0-print_list_integer' has no attribute 'print_list_integer'"
     ]
    }
   ],
   "source": [
    "print_list_integer = __import__('0-print_list_integer').print_list_integer\n",
    "\n",
    "my_list = [1, 2, 3, 4, 5]\n",
    "print_list_integer(my_list)"
   ]
  },
  {
   "cell_type": "code",
   "execution_count": 4,
   "id": "f4f156db",
   "metadata": {},
   "outputs": [
    {
     "ename": "TypeError",
     "evalue": "object of type 'int' has no len()",
     "output_type": "error",
     "traceback": [
      "\u001b[1;31m---------------------------------------------------------------------------\u001b[0m",
      "\u001b[1;31mTypeError\u001b[0m                                 Traceback (most recent call last)",
      "Cell \u001b[1;32mIn[4], line 2\u001b[0m\n\u001b[0;32m      1\u001b[0m idx \u001b[38;5;241m=\u001b[39m \u001b[38;5;241m123\u001b[39m\n\u001b[1;32m----> 2\u001b[0m \u001b[38;5;28mlen\u001b[39m(idx)\n",
      "\u001b[1;31mTypeError\u001b[0m: object of type 'int' has no len()"
     ]
    }
   ],
   "source": [
    "idx = 123\n",
    "len(idx)"
   ]
  },
  {
   "cell_type": "code",
   "execution_count": 25,
   "id": "c36df035",
   "metadata": {},
   "outputs": [],
   "source": [
    "def element_at(my_list, idx):\n",
    "    if idx < 0:\n",
    "        print('None')\n",
    "    list_c = len(my_list)\n",
    "    if idx > list_c:\n",
    "        print(None)  "
   ]
  },
  {
   "cell_type": "code",
   "execution_count": 26,
   "id": "a896ba00",
   "metadata": {},
   "outputs": [
    {
     "name": "stdout",
     "output_type": "stream",
     "text": [
      "Element at index 3 is None\n"
     ]
    }
   ],
   "source": [
    "my_list = [1, 2, 3, 4, 5]\n",
    "idx = 3\n",
    "print(\"Element at index {:d} is {}\".format(idx, element_at(my_list, idx)))"
   ]
  },
  {
   "cell_type": "code",
   "execution_count": 24,
   "id": "d9f1f479",
   "metadata": {},
   "outputs": [],
   "source": [
    "element_at(1, -1)"
   ]
  },
  {
   "cell_type": "code",
   "execution_count": 53,
   "id": "dd02ab25",
   "metadata": {},
   "outputs": [],
   "source": [
    "def print_reversed_list_integer(my_list=[]):\n",
    "    if my_list:\n",
    "        my_list.reverse()\n",
    "        for i in range(len(my_list)):\n",
    "            print({my_list[i]"
   ]
  },
  {
   "cell_type": "code",
   "execution_count": 55,
   "id": "aa1d0f3d",
   "metadata": {},
   "outputs": [
    {
     "data": {
      "text/plain": [
       "5"
      ]
     },
     "execution_count": 55,
     "metadata": {},
     "output_type": "execute_result"
    }
   ],
   "source": [
    "print_reversed_list_integer(my_list=[2,3,4,5])"
   ]
  },
  {
   "cell_type": "code",
   "execution_count": null,
   "id": "ac06298d",
   "metadata": {},
   "outputs": [],
   "source": []
  }
 ],
 "metadata": {
  "kernelspec": {
   "display_name": "Python 3 (ipykernel)",
   "language": "python",
   "name": "python3"
  },
  "language_info": {
   "codemirror_mode": {
    "name": "ipython",
    "version": 3
   },
   "file_extension": ".py",
   "mimetype": "text/x-python",
   "name": "python",
   "nbconvert_exporter": "python",
   "pygments_lexer": "ipython3",
   "version": "3.11.4"
  }
 },
 "nbformat": 4,
 "nbformat_minor": 5
}
