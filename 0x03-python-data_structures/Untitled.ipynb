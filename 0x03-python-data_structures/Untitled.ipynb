{
 "cells": [
  {
   "cell_type": "code",
   "execution_count": 3,
   "id": "ed730415",
   "metadata": {},
   "outputs": [
    {
     "ename": "AttributeError",
     "evalue": "module '0-print_list_integer' has no attribute 'print_list_integer'",
     "output_type": "error",
     "traceback": [
      "\u001b[1;31m---------------------------------------------------------------------------\u001b[0m",
      "\u001b[1;31mAttributeError\u001b[0m                            Traceback (most recent call last)",
      "Cell \u001b[1;32mIn[3], line 1\u001b[0m\n\u001b[1;32m----> 1\u001b[0m print_list_integer \u001b[38;5;241m=\u001b[39m \u001b[38;5;28m__import__\u001b[39m(\u001b[38;5;124m'\u001b[39m\u001b[38;5;124m0-print_list_integer\u001b[39m\u001b[38;5;124m'\u001b[39m)\u001b[38;5;241m.\u001b[39mprint_list_integer\n\u001b[0;32m      3\u001b[0m my_list \u001b[38;5;241m=\u001b[39m [\u001b[38;5;241m1\u001b[39m, \u001b[38;5;241m2\u001b[39m, \u001b[38;5;241m3\u001b[39m, \u001b[38;5;241m4\u001b[39m, \u001b[38;5;241m5\u001b[39m]\n\u001b[0;32m      4\u001b[0m print_list_integer(my_list)\n",
      "\u001b[1;31mAttributeError\u001b[0m: module '0-print_list_integer' has no attribute 'print_list_integer'"
     ]
    }
   ],
   "source": [
    "print_list_integer = __import__('0-print_list_integer').print_list_integer\n",
    "\n",
    "my_list = [1, 2, 3, 4, 5]\n",
    "print_list_integer(my_list)"
   ]
  },
  {
   "cell_type": "code",
   "execution_count": 4,
   "id": "ac1066c9",
   "metadata": {},
   "outputs": [
    {
     "ename": "TypeError",
     "evalue": "object of type 'int' has no len()",
     "output_type": "error",
     "traceback": [
      "\u001b[1;31m---------------------------------------------------------------------------\u001b[0m",
      "\u001b[1;31mTypeError\u001b[0m                                 Traceback (most recent call last)",
      "Cell \u001b[1;32mIn[4], line 2\u001b[0m\n\u001b[0;32m      1\u001b[0m idx \u001b[38;5;241m=\u001b[39m \u001b[38;5;241m123\u001b[39m\n\u001b[1;32m----> 2\u001b[0m \u001b[38;5;28mlen\u001b[39m(idx)\n",
      "\u001b[1;31mTypeError\u001b[0m: object of type 'int' has no len()"
     ]
    }
   ],
   "source": [
    "idx = 123\n",
    "len(idx)"
   ]
  },
  {
   "cell_type": "code",
   "execution_count": 25,
   "id": "b23d8007",
   "metadata": {},
   "outputs": [],
   "source": [
    "def element_at(my_list, idx):\n",
    "    if idx < 0:\n",
    "        print('None')\n",
    "    list_c = len(my_list)\n",
    "    if idx > list_c:\n",
    "        print(None)  "
   ]
  },
  {
   "cell_type": "code",
   "execution_count": 26,
   "id": "63ecb632",
   "metadata": {},
   "outputs": [
    {
     "name": "stdout",
     "output_type": "stream",
     "text": [
      "Element at index 3 is None\n"
     ]
    }
   ],
   "source": [
    "my_list = [1, 2, 3, 4, 5]\n",
    "idx = 3\n",
    "print(\"Element at index {:d} is {}\".format(idx, element_at(my_list, idx)))"
   ]
  },
  {
   "cell_type": "code",
   "execution_count": 24,
   "id": "6e3dbb71",
   "metadata": {},
   "outputs": [],
   "source": [
    "element_at(1, -1)"
   ]
  },
  {
   "cell_type": "code",
   "execution_count": 56,
   "id": "75badd74",
   "metadata": {},
   "outputs": [],
   "source": [
    "def print_reversed_list_integer(my_list=[]):\n",
    "    if my_list:\n",
    "        my_list.reverse()\n",
    "        for i in range(len(my_list)):\n",
    "            print(\"{}\".format(my_list[i]))"
   ]
  },
  {
   "cell_type": "code",
   "execution_count": 57,
   "id": "c254c04e",
   "metadata": {},
   "outputs": [
    {
     "name": "stdout",
     "output_type": "stream",
     "text": [
      "5\n",
      "4\n",
      "3\n",
      "2\n"
     ]
    }
   ],
   "source": [
    "print_reversed_list_integer(my_list=[2,3,4,5])"
   ]
  },
  {
   "cell_type": "code",
   "execution_count": 67,
   "id": "e1687be3",
   "metadata": {},
   "outputs": [
    {
     "data": {
      "text/plain": [
       "range(0, 4)"
      ]
     },
     "execution_count": 67,
     "metadata": {},
     "output_type": "execute_result"
    }
   ],
   "source": [
    "c = \"book\"\n",
    "range(len(c))"
   ]
  },
  {
   "cell_type": "code",
   "execution_count": 77,
   "id": "2039faf8",
   "metadata": {},
   "outputs": [
    {
     "ename": "SyntaxError",
     "evalue": "'return' outside function (2963819979.py, line 6)",
     "output_type": "error",
     "traceback": [
      "\u001b[1;36m  Cell \u001b[1;32mIn[77], line 6\u001b[1;36m\u001b[0m\n\u001b[1;33m    return new_string\u001b[0m\n\u001b[1;37m    ^\u001b[0m\n\u001b[1;31mSyntaxError\u001b[0m\u001b[1;31m:\u001b[0m 'return' outside function\n"
     ]
    }
   ],
   "source": [
    "c = \"book\"\n",
    "new_string = \"\"\n",
    "for i in range(len(c)):\n",
    "    if c[i] != 'o' and c[i] != 'C':\n",
    "        new_string += c[i]\n",
    "    return new_string"
   ]
  },
  {
   "cell_type": "code",
   "execution_count": 61,
   "id": "7185fef3",
   "metadata": {},
   "outputs": [
    {
     "ename": "AttributeError",
     "evalue": "'str' object has no attribute 'remove'",
     "output_type": "error",
     "traceback": [
      "\u001b[1;31m---------------------------------------------------------------------------\u001b[0m",
      "\u001b[1;31mAttributeError\u001b[0m                            Traceback (most recent call last)",
      "Cell \u001b[1;32mIn[61], line 2\u001b[0m\n\u001b[0;32m      1\u001b[0m \u001b[38;5;28;01mif\u001b[39;00m \u001b[38;5;124m'\u001b[39m\u001b[38;5;124mo\u001b[39m\u001b[38;5;124m'\u001b[39m \u001b[38;5;129;01min\u001b[39;00m c:\n\u001b[1;32m----> 2\u001b[0m     c\u001b[38;5;241m.\u001b[39mremove(\u001b[38;5;124m'\u001b[39m\u001b[38;5;124mo\u001b[39m\u001b[38;5;124m'\u001b[39m)\n\u001b[0;32m      3\u001b[0m     \u001b[38;5;28mprint\u001b[39m(c)\n",
      "\u001b[1;31mAttributeError\u001b[0m: 'str' object has no attribute 'remove'"
     ]
    }
   ],
   "source": []
  },
  {
   "cell_type": "code",
   "execution_count": null,
   "id": "cd0ab48e",
   "metadata": {},
   "outputs": [],
   "source": []
  }
 ],
 "metadata": {
  "kernelspec": {
   "display_name": "Python 3 (ipykernel)",
   "language": "python",
   "name": "python3"
  },
  "language_info": {
   "codemirror_mode": {
    "name": "ipython",
    "version": 3
   },
   "file_extension": ".py",
   "mimetype": "text/x-python",
   "name": "python",
   "nbconvert_exporter": "python",
   "pygments_lexer": "ipython3",
   "version": "3.11.4"
  }
 },
 "nbformat": 4,
 "nbformat_minor": 5
}
